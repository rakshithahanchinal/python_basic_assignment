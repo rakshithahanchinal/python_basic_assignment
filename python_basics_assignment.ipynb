{
  "nbformat": 4,
  "nbformat_minor": 0,
  "metadata": {
    "colab": {
      "provenance": []
    },
    "kernelspec": {
      "name": "python3",
      "display_name": "Python 3"
    },
    "language_info": {
      "name": "python"
    }
  },
  "cells": [
    {
      "cell_type": "code",
      "execution_count": null,
      "metadata": {
        "id": "WentKaWcU1JG"
      },
      "outputs": [],
      "source": []
    },
    {
      "cell_type": "code",
      "source": [],
      "metadata": {
        "id": "v5Sk7Ff5W_F-"
      },
      "execution_count": null,
      "outputs": []
    },
    {
      "cell_type": "markdown",
      "source": [
        "#PYTHON BASICS ASSIGNMENT\n",
        "\n",
        "1. What is Python, and why is it popular?\n",
        " - Python is versatile, general purpose programming language known for its readability and easy to use, making it popular for various applications,\n",
        " including web development,data science and machine learning.its popularity stems from its extensive libraries,large community,and easy of learning.\n",
        "\n",
        "2.  What is an interpreter in Python?\n",
        " - a python interpretor is a program that executes a python code line by line.It translates python code line by line.It transtates python code into machine readable by bytecode,which the computer can then run.\n",
        "\n",
        "3. What are pre-defined keywords in Python?\n",
        " - Key words are predefined, reserved words used in python programming that have special meaning to the compiler.We cannot use keyword as variable name, function name,or any other identifier.they are used to define the syntax and structure of python language.\n",
        "\n",
        "4. Can keywords be used as variable names?\n",
        " - no you cannot use python keyword as variable names because they are reserved for defining the language's syntax and structure.\n",
        "\n",
        "5. What is mutability in Python?\n",
        " - Mutability refers to ability of an object to change its value or state after it has been created.Mutable objects can be modified without creating new object.\n",
        "\n",
        "6.  Why are lists mutable, but tuples are immutable?\n",
        " - lists are mutable as their contents can be changed after creation\n",
        " - Tuples are immutable as their content cannot be changed after creation\n",
        "\n",
        "7. What is the difference between “==” and “is” operators in Python?\n",
        " - In python '==' checks value equality(whether the two objects have same content), while 'is' checks for object identity (whether two variables point to the same object in memory).\n",
        "\n",
        "8. What are logical operators in Python\n",
        " - in Python, logical operators, and, or, and not, are used to combine or manipulate boolean expressions, resulting in a single boolean value (True or False).\n",
        "\n",
        "9. What is type casting in Python?\n",
        " - In Python, type casting (also known as type conversion) is the process of converting a variable's data type to another, often using built-in functions like int(), float(), and str().\n",
        "\n",
        "10. What is the difference between implicit and explicit type casting\n",
        " - Implicit type casting (also known as widening or automatic conversion) happens automatically by the compiler, while explicit type casting (or type casting) requires the programmer to manually specify the conversion using a casting operator.\n",
        "\n",
        "11. What is the purpose of conditional statements in Python\n",
        " - Conditional statements in Python, like if, elif, and else, allow you to control the flow of your program by executing specific code blocks based on whether a condition is true or false, enabling dynamic and responsive programs.\n",
        "\n",
        "12. How does the elif statement work\n",
        " - The “elif” keyword in Python, stands for “else if”. It can be used in conditional statements to check for multiple conditions. For example, if the first condition is false, it moves on to the next “elif” statement to check if that condition is true.\n",
        "\n",
        "13. What is the difference between for and while loops?\n",
        " - The key difference between for and while loops lies in how they control iteration: for loops are used when you know the number of iterations beforehand, while while loops continue until a condition becomes false.\n",
        "\n",
        "14.  Describe a scenario where a while loop is more suitable than a for loop.\n",
        " - In programming, for loops are best used when you know the number of iterations ahead of time, whereas a while loop is best used when you don't know the number of iterations in advance. Both methods can help you iterate through your code.\n",
        ""
      ],
      "metadata": {
        "id": "yyDuL-gmVQOh"
      }
    },
    {
      "cell_type": "code",
      "source": [
        "# practical questions\n",
        "\n",
        "# 1.  Write a Python program to print \"Hello, World!\n",
        "print(\"Hello, World!\")"
      ],
      "metadata": {
        "colab": {
          "base_uri": "https://localhost:8080/"
        },
        "id": "ZvST5esaoj7L",
        "outputId": "58439f55-bbe0-4e9e-8af8-e1eafc7ddff3"
      },
      "execution_count": 1,
      "outputs": [
        {
          "output_type": "stream",
          "name": "stdout",
          "text": [
            "Hello, World!\n"
          ]
        }
      ]
    },
    {
      "cell_type": "code",
      "source": [
        "# 2.  Write a Python program that displays your name and age\n",
        "name=\"raksitha\"\n",
        "age=20\n",
        "print(\"name:\",name)\n",
        "print(\"age:\",age)\n"
      ],
      "metadata": {
        "colab": {
          "base_uri": "https://localhost:8080/"
        },
        "id": "zsXL8PVJo9Em",
        "outputId": "a31d9e49-cd04-469f-f82f-86612cd4e188"
      },
      "execution_count": 3,
      "outputs": [
        {
          "output_type": "stream",
          "name": "stdout",
          "text": [
            "name: raksitha\n",
            "age: 20\n"
          ]
        }
      ]
    },
    {
      "cell_type": "code",
      "source": [
        "# 3. Write code to print all the pre-defined keywords in Python using the keyword library\n",
        "import keyword\n",
        "print(keyword.kwlist)\n"
      ],
      "metadata": {
        "colab": {
          "base_uri": "https://localhost:8080/"
        },
        "id": "CKDdFLoAo9H9",
        "outputId": "4aa291c2-0af2-445e-f50a-8e36a44c6ad3"
      },
      "execution_count": 4,
      "outputs": [
        {
          "output_type": "stream",
          "name": "stdout",
          "text": [
            "['False', 'None', 'True', 'and', 'as', 'assert', 'async', 'await', 'break', 'class', 'continue', 'def', 'del', 'elif', 'else', 'except', 'finally', 'for', 'from', 'global', 'if', 'import', 'in', 'is', 'lambda', 'nonlocal', 'not', 'or', 'pass', 'raise', 'return', 'try', 'while', 'with', 'yield']\n"
          ]
        }
      ]
    },
    {
      "cell_type": "code",
      "source": [
        "# 4. Write a program that checks if a given word is a Python keyword.\n",
        "\n",
        "import keyword\n",
        "\n",
        "def is_keyword(word):\n",
        "  \"\"\"\n",
        "  Checks if a given word is a Python keyword.\n",
        "\n",
        "  Args:\n",
        "      word: The word to check.\n",
        "\n",
        "  Returns:\n",
        "      True if the word is a keyword, False otherwise.\n",
        "  \"\"\"\n",
        "  return keyword.iskeyword(word)\n",
        "\n",
        "# Example usage\n",
        "print(is_keyword(\"for\"))  # Output: True\n",
        "print(is_keyword(\"print\")) # Output: True\n",
        "print(is_keyword(\"hello\")) # Output: False\n"
      ],
      "metadata": {
        "colab": {
          "base_uri": "https://localhost:8080/"
        },
        "id": "HvWHv9fDqHiM",
        "outputId": "72f98708-f6e0-4287-e0a0-f26ee1d155cc"
      },
      "execution_count": 5,
      "outputs": [
        {
          "output_type": "stream",
          "name": "stdout",
          "text": [
            "True\n",
            "False\n",
            "False\n"
          ]
        }
      ]
    },
    {
      "cell_type": "code",
      "source": [
        "#  5. Create a list and tuple in Python, and demonstrate how attempting to change an element works differently\n",
        "\n",
        "# Create a list\n",
        "my_list = [1, 2, 3, 4, 5]\n",
        "\n",
        "# Attempt to change an element in the list\n",
        "my_list[0] = 10\n",
        "print(\"Modified list:\", my_list)  # Output: Modified list: [10, 2, 3, 4, 5]\n",
        "\n",
        "# Create a tuple\n",
        "my_tuple = (1, 2, 3, 4, 5)\n",
        "\n",
        "# Attempt to change an element in the tuple (this will raise a TypeError)\n",
        "try:\n",
        "    my_tuple[0] = 10\n",
        "except TypeError as e:\n",
        "    print(\"Error:\", e)  # Output: Error: 'tuple' object does not support item assignment\n"
      ],
      "metadata": {
        "colab": {
          "base_uri": "https://localhost:8080/"
        },
        "id": "F-hmD6J7tR48",
        "outputId": "512bda78-b2b8-4708-c214-ebec0917b4c8"
      },
      "execution_count": 6,
      "outputs": [
        {
          "output_type": "stream",
          "name": "stdout",
          "text": [
            "Modified list: [10, 2, 3, 4, 5]\n",
            "Error: 'tuple' object does not support item assignment\n"
          ]
        }
      ]
    },
    {
      "cell_type": "code",
      "source": [
        "# 6. Write a function to demonstrate the behavior of mutable and immutable argument\n",
        "\n",
        "def demonstrate_mutability(mutable_arg, immutable_arg):\n",
        "    \"\"\"Demonstrates the behavior of mutable and immutable arguments.\n",
        "\n",
        "    Args:\n",
        "        mutable_arg: A mutable argument (e.g., a list).\n",
        "        immutable_arg: An immutable argument (e.g., an integer).\n",
        "    \"\"\"\n",
        "\n",
        "    print(\"Inside the function:\")\n",
        "    print(\"Mutable argument before modification:\", mutable_arg)\n",
        "    mutable_arg.append(4)  # Modifying the mutable argument\n",
        "    print(\"Mutable argument after modification:\", mutable_arg)\n",
        "\n",
        "    print(\"Immutable argument before modification:\", immutable_arg)\n",
        "    immutable_arg += 1  # Modifying the immutable argument (creates a new object)\n",
        "    print(\"Immutable argument after modification:\", immutable_arg)\n",
        "\n",
        "\n",
        "# Example usage\n",
        "my_list = [1, 2, 3]\n",
        "my_number = 10\n",
        "\n",
        "print(\"Before calling the function:\")\n",
        "print(\"My list:\", my_list)\n",
        "print(\"My number:\", my_number)\n",
        "\n",
        "demonstrate_mutability(my_list, my_number)\n",
        "\n",
        "print(\"\\nAfter calling the function:\")\n",
        "print(\"My list:\", my_list)  # The original list is modified\n",
        "print(\"My number:\", my_number)  # The original number remains unchanged\n"
      ],
      "metadata": {
        "colab": {
          "base_uri": "https://localhost:8080/"
        },
        "id": "uytawRajtR8a",
        "outputId": "e4380c43-95ac-458c-cefa-9687e012ce26"
      },
      "execution_count": 8,
      "outputs": [
        {
          "output_type": "stream",
          "name": "stdout",
          "text": [
            "Before calling the function:\n",
            "My list: [1, 2, 3]\n",
            "My number: 10\n",
            "Inside the function:\n",
            "Mutable argument before modification: [1, 2, 3]\n",
            "Mutable argument after modification: [1, 2, 3, 4]\n",
            "Immutable argument before modification: 10\n",
            "Immutable argument after modification: 11\n",
            "\n",
            "After calling the function:\n",
            "My list: [1, 2, 3, 4]\n",
            "My number: 10\n"
          ]
        }
      ]
    },
    {
      "cell_type": "code",
      "source": [
        "#  Write a program that performs basic arithmetic operations on two user-input numbers.\n",
        "\n",
        "def perform_arithmetic_operations(num1, num2):\n",
        "    \"\"\"Performs basic arithmetic operations on two numbers.\n",
        "\n",
        "    Args:\n",
        "        num1: The first number.\n",
        "        num2: The second number.\n",
        "\n",
        "    Returns:\n",
        "        A dictionary containing the results of the operations.\n",
        "    \"\"\"\n",
        "\n",
        "    try:\n",
        "        num1 = float(num1)  # Convert to float to handle potential decimal inputs\n",
        "        num2 = float(num2)\n",
        "\n",
        "        results = {\n",
        "            \"addition\": num1 + num2,\n",
        "            \"subtraction\": num1 - num2,\n",
        "            \"multiplication\": num1 * num2,\n",
        "        }\n",
        "\n",
        "        if num2 != 0:  # Avoid division by zero\n",
        "            results[\"division\"] = num1 / num2\n",
        "        else:\n",
        "            results[\"division\"] = \"Undefined (division by zero)\"\n",
        "\n",
        "        return results\n",
        "    except ValueError:\n",
        "        return \"Invalid input. Please enter valid numbers.\"\n",
        "\n",
        "# Get user input\n",
        "num1 = input(\"Enter the first number: \")\n",
        "num2 = input(\"Enter the second number: \")\n",
        "\n",
        "# Perform calculations\n",
        "results = perform_arithmetic_operations(num1, num2)\n",
        "\n",
        "# Display the results\n",
        "if isinstance(results, dict):\n",
        "    print(\"\\nResults:\")\n",
        "    for operation, result in results.items():\n",
        "        print(f\"{operation}: {result}\")\n",
        "else:\n",
        "    print(results) # Print the error message if inputs were invalid\n"
      ],
      "metadata": {
        "colab": {
          "base_uri": "https://localhost:8080/"
        },
        "id": "8dHfKXYcvTjd",
        "outputId": "aefe6402-2d49-4e7d-b0ed-86476e197e07"
      },
      "execution_count": 9,
      "outputs": [
        {
          "output_type": "stream",
          "name": "stdout",
          "text": [
            "Enter the first number: 66\n",
            "Enter the second number: 7\n",
            "\n",
            "Results:\n",
            "addition: 73.0\n",
            "subtraction: 59.0\n",
            "multiplication: 462.0\n",
            "division: 9.428571428571429\n"
          ]
        }
      ]
    },
    {
      "cell_type": "code",
      "source": [
        "#  Write a program to demonstrate the use of logical operators\n",
        "\n",
        "#  Write a program to demonstrate the use of logical operators\n",
        "\n",
        "def demonstrate_logical_operators():\n",
        "    \"\"\"Demonstrates the use of logical operators (and, or, not).\"\"\"\n",
        "\n",
        "    x = True\n",
        "    y = False\n",
        "\n",
        "    print(f\"x: {x}, y: {y}\")\n",
        "\n",
        "    # AND operator\n",
        "    print(f\"x and y: {x and y}\")  # Output: False (both must be True)\n",
        "\n",
        "    # OR operator\n",
        "    print(f\"x or y: {x or y}\")  # Output: True (at least one must be True)\n",
        "\n",
        "    # NOT operator\n",
        "    print(f\"not x: {not x}\")  # Output: False (inverts the boolean value)\n",
        "    print(f\"not y: {not y}\")  # Output: True\n",
        "\n",
        "\n",
        "# Example usage\n",
        "demonstrate_logical_operators()\n"
      ],
      "metadata": {
        "colab": {
          "base_uri": "https://localhost:8080/"
        },
        "id": "eJCfbrksvUHn",
        "outputId": "8454f7c3-090d-4d0f-e32f-f5e0d8554b0b"
      },
      "execution_count": 10,
      "outputs": [
        {
          "output_type": "stream",
          "name": "stdout",
          "text": [
            "x: True, y: False\n",
            "x and y: False\n",
            "x or y: True\n",
            "not x: False\n",
            "not y: True\n"
          ]
        }
      ]
    },
    {
      "cell_type": "code",
      "source": [
        "#  Write a Python program to convert user input from string to integer, float, and boolean types.\n",
        "\n",
        "def convert_input():\n",
        "    \"\"\"Converts user input to integer, float, and boolean types.\"\"\"\n",
        "\n",
        "    user_input = input(\"Enter a value: \")\n",
        "\n",
        "    try:\n",
        "        integer_value = int(user_input)\n",
        "        print(\"Integer:\", integer_value)\n",
        "    except ValueError:\n",
        "        print(\"Invalid input for integer conversion.\")\n",
        "\n",
        "    try:\n",
        "        float_value = float(user_input)\n",
        "        print(\"Float:\", float_value)\n",
        "    except ValueError:\n",
        "        print(\"Invalid input for float conversion.\")\n",
        "\n",
        "    try:\n",
        "        # Attempt boolean conversion (treating non-empty strings as True)\n",
        "        boolean_value = bool(user_input)\n",
        "        print(\"Boolean:\", boolean_value)\n",
        "    except ValueError:\n",
        "        print(\"Invalid input for boolean conversion.\")\n",
        "\n",
        "# Call the function to demonstrate\n",
        "convert_input()\n"
      ],
      "metadata": {
        "colab": {
          "base_uri": "https://localhost:8080/"
        },
        "id": "pvoC4pbFwsXI",
        "outputId": "2fcd13b7-2ad1-4656-c43d-46f96df6e821"
      },
      "execution_count": 12,
      "outputs": [
        {
          "output_type": "stream",
          "name": "stdout",
          "text": [
            "Enter a value: 45.9\n",
            "Invalid input for integer conversion.\n",
            "Float: 45.9\n",
            "Boolean: True\n"
          ]
        }
      ]
    },
    {
      "cell_type": "code",
      "source": [
        "# Write code to demonstrate type casting with list elements\n",
        "\n",
        "#  Write code to demonstrate type casting with list elements\n",
        "\n",
        "mixed_list = [1, \"2\", 3.0, \"4.5\", True]\n",
        "\n",
        "# Type casting list elements\n",
        "int_list = []\n",
        "float_list = []\n",
        "str_list = []\n",
        "bool_list = []\n",
        "\n",
        "for element in mixed_list:\n",
        "    try:\n",
        "        int_list.append(int(element))\n",
        "    except (ValueError, TypeError):\n",
        "        int_list.append(None)  # Append None if conversion fails\n",
        "\n",
        "    try:\n",
        "        float_list.append(float(element))\n",
        "    except (ValueError, TypeError):\n",
        "        float_list.append(None)\n",
        "\n",
        "    try:\n",
        "        str_list.append(str(element))\n",
        "    except (ValueError, TypeError):\n",
        "        str_list.append(None)\n",
        "\n",
        "    try:\n",
        "        bool_list.append(bool(element))\n",
        "    except (ValueError, TypeError):\n",
        "        bool_list.append(None)\n",
        "\n",
        "print(\"Original list:\", mixed_list)\n",
        "print(\"Integer list:\", int_list)\n",
        "print(\"Float list:\", float_list)\n",
        "print(\"String list:\", str_list)\n",
        "print(\"Boolean list:\", bool_list)\n"
      ],
      "metadata": {
        "colab": {
          "base_uri": "https://localhost:8080/"
        },
        "id": "-HHsIfmTwscX",
        "outputId": "7138ae2c-5264-4c6a-ebe1-6a72b4cf1ada"
      },
      "execution_count": 13,
      "outputs": [
        {
          "output_type": "stream",
          "name": "stdout",
          "text": [
            "Original list: [1, '2', 3.0, '4.5', True]\n",
            "Integer list: [1, 2, 3, None, 1]\n",
            "Float list: [1.0, 2.0, 3.0, 4.5, 1.0]\n",
            "String list: ['1', '2', '3.0', '4.5', 'True']\n",
            "Boolean list: [True, True, True, True, True]\n"
          ]
        }
      ]
    },
    {
      "cell_type": "code",
      "source": [
        "#. Write a program that checks if a number is positive, negative, or zero\n",
        "\n",
        "def check_number(number):\n",
        "    \"\"\"Checks if a number is positive, negative, or zero.\n",
        "\n",
        "    Args:\n",
        "        number: The number to check.\n",
        "\n",
        "    Returns:\n",
        "        A string indicating whether the number is positive, negative, or zero.\n",
        "    \"\"\"\n",
        "    if number > 0:\n",
        "        return \"Positive\"\n",
        "    elif number < 0:\n",
        "        return \"Negative\"\n",
        "    else:\n",
        "        return \"Zero\"\n",
        "\n",
        "# Get user input\n",
        "try:\n",
        "    num = float(input(\"Enter a number: \"))\n",
        "    result = check_number(num)\n",
        "    print(f\"The number is {result}\")\n",
        "except ValueError:\n",
        "    print(\"Invalid input. Please enter a valid number.\")\n"
      ],
      "metadata": {
        "colab": {
          "base_uri": "https://localhost:8080/"
        },
        "id": "ctpu-Rx7wsfw",
        "outputId": "e65cd93a-1455-491b-c40d-ba3c551e1ec0"
      },
      "execution_count": 14,
      "outputs": [
        {
          "output_type": "stream",
          "name": "stdout",
          "text": [
            "Enter a number: 55\n",
            "The number is Positive\n"
          ]
        }
      ]
    },
    {
      "cell_type": "code",
      "source": [
        "#  Write a for loop to print numbers from 1 to 10.\n",
        "\n",
        "for i in range(1, 11):\n",
        "  print(i, end=\" \")\n"
      ],
      "metadata": {
        "colab": {
          "base_uri": "https://localhost:8080/"
        },
        "id": "hC4ItGIrx1pG",
        "outputId": "e77b4289-01ec-4e91-fb3f-7949a91574af"
      },
      "execution_count": 17,
      "outputs": [
        {
          "output_type": "stream",
          "name": "stdout",
          "text": [
            "1 2 3 4 5 6 7 8 9 10 "
          ]
        }
      ]
    },
    {
      "cell_type": "code",
      "source": [
        "# Write a Python program to find the sum of all even numbers between 1 and 50\n",
        "\n",
        "sum_of_evens = 0\n",
        "for i in range(2, 51, 2):\n",
        "  sum_of_evens += i\n",
        "print(\"Sum of even numbers between 1 and 50:\", sum_of_evens)\n"
      ],
      "metadata": {
        "colab": {
          "base_uri": "https://localhost:8080/"
        },
        "id": "L6k5Iu4Nx1rw",
        "outputId": "81f5a48c-167e-40e6-8785-b9a918ae4f0f"
      },
      "execution_count": 20,
      "outputs": [
        {
          "output_type": "stream",
          "name": "stdout",
          "text": [
            "Sum of even numbers between 1 and 50: 650\n"
          ]
        }
      ]
    },
    {
      "cell_type": "code",
      "source": [
        "#  Write a program to reverse a string using a while loop\n",
        "\n",
        "def reverse_string(input_string):\n",
        "    reversed_string = \"\"\n",
        "    index = len(input_string) - 1\n",
        "    while index >= 0:\n",
        "        reversed_string += input_string[index]\n",
        "        index -= 1\n",
        "    return reversed_string\n",
        "\n",
        "# Example usage\n",
        "string_to_reverse = \"hello\"\n",
        "reversed_string = reverse_string(string_to_reverse)\n",
        "print(f\"Reversed string: {reversed_string}\")\n"
      ],
      "metadata": {
        "colab": {
          "base_uri": "https://localhost:8080/"
        },
        "id": "4HQFn-hlx1uk",
        "outputId": "84d7a00d-05ac-446f-e241-de18d6846a20"
      },
      "execution_count": 19,
      "outputs": [
        {
          "output_type": "stream",
          "name": "stdout",
          "text": [
            "Reversed string: olleh\n"
          ]
        }
      ]
    },
    {
      "cell_type": "code",
      "source": [
        "# prompt:  Write a Python program to calculate the factorial of a number provided by the user using a while loop.\n",
        "\n",
        "def factorial(n):\n",
        "    \"\"\"\n",
        "    Calculates the factorial of a non-negative integer using a while loop.\n",
        "\n",
        "    Args:\n",
        "    n: The non-negative integer.\n",
        "\n",
        "    Returns:\n",
        "    The factorial of n, or 1 if n is 0.\n",
        "    Raises ValueError if n is negative.\n",
        "    \"\"\"\n",
        "    if n < 0:\n",
        "        raise ValueError(\"Factorial is not defined for negative numbers.\")\n",
        "    elif n == 0:\n",
        "        return 1\n",
        "    else:\n",
        "        fact = 1\n",
        "        i = 1\n",
        "        while i <= n:\n",
        "            fact *= i\n",
        "            i += 1\n",
        "        return fact\n",
        "\n",
        "# Get user input\n",
        "try:\n",
        "    num = int(input(\"Enter a non-negative integer: \"))\n",
        "    result = factorial(num)\n",
        "    print(f\"The factorial of {num} is {result}\")\n",
        "except ValueError as e:\n",
        "  print(f\"Error: {e}\")\n"
      ],
      "metadata": {
        "colab": {
          "base_uri": "https://localhost:8080/"
        },
        "id": "7wQNctN-x1yG",
        "outputId": "792f78a8-1ae3-4da5-a2fa-c5275d13cfde"
      },
      "execution_count": 21,
      "outputs": [
        {
          "output_type": "stream",
          "name": "stdout",
          "text": [
            "Enter a non-negative integer: 44\n",
            "The factorial of 44 is 2658271574788448768043625811014615890319638528000000000\n"
          ]
        }
      ]
    }
  ]
}